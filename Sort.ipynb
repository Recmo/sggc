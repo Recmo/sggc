{
 "cells": [
  {
   "cell_type": "code",
   "execution_count": 4,
   "metadata": {},
   "outputs": [],
   "source": [
    "def toaddr(arr, i):\n",
    "    return arr + 32 + 32 * i"
   ]
  },
  {
   "cell_type": "code",
   "execution_count": 22,
   "metadata": {},
   "outputs": [],
   "source": [
    "def test1(lo, hi):\n",
    "    pivot = lo + hi\n",
    "    pivot %= 2**256\n",
    "    pivot //= 2\n",
    "    return pivot"
   ]
  },
  {
   "cell_type": "code",
   "execution_count": 32,
   "metadata": {},
   "outputs": [],
   "source": [
    "def test2(lo, hi):\n",
    "    pivot = lo + hi\n",
    "    pivot %= 2**256\n",
    "    pivot //= 2\n",
    "    pivot &= ~0x1f\n",
    "    return pivot"
   ]
  },
  {
   "cell_type": "code",
   "execution_count": 51,
   "metadata": {},
   "outputs": [
    {
     "data": {
      "text/plain": [
       "224"
      ]
     },
     "execution_count": 51,
     "metadata": {},
     "output_type": "execute_result"
    }
   ],
   "source": [
    "toaddr(96, test1(3, 4))"
   ]
  },
  {
   "cell_type": "code",
   "execution_count": 52,
   "metadata": {},
   "outputs": [
    {
     "data": {
      "text/plain": [
       "224"
      ]
     },
     "execution_count": 52,
     "metadata": {},
     "output_type": "execute_result"
    }
   ],
   "source": [
    "test2(toaddr(96, 3), toaddr(96, 4))"
   ]
  },
  {
   "cell_type": "code",
   "execution_count": 2,
   "metadata": {},
   "outputs": [
    {
     "name": "stdout",
     "output_type": "stream",
     "text": [
      "        0x0 mload add dup1 0x0 mstore\n",
      "        0x20 mload add dup1 0x20 mstore\n",
      "        0x40 mload add dup1 0x40 mstore\n",
      "        0x60 mload add dup1 0x60 mstore\n",
      "        0x80 mload add dup1 0x80 mstore\n",
      "        0xa0 mload add dup1 0xa0 mstore\n",
      "        0xc0 mload add dup1 0xc0 mstore\n",
      "        0xe0 mload add dup1 0xe0 mstore\n",
      "        0x100 mload add dup1 0x100 mstore\n",
      "        0x120 mload add dup1 0x120 mstore\n",
      "        0x140 mload add dup1 0x140 mstore\n",
      "        0x160 mload add dup1 0x160 mstore\n",
      "        0x180 mload add dup1 0x180 mstore\n",
      "        0x1a0 mload add dup1 0x1a0 mstore\n",
      "        0x1c0 mload add dup1 0x1c0 mstore\n",
      "        0x1e0 mload add dup1 0x1e0 mstore\n",
      "        0x200 mload add dup1 0x200 mstore\n",
      "        0x220 mload add dup1 0x220 mstore\n",
      "        0x240 mload add dup1 0x240 mstore\n",
      "        0x260 mload add dup1 0x260 mstore\n",
      "        0x280 mload add dup1 0x280 mstore\n",
      "        0x2a0 mload add dup1 0x2a0 mstore\n",
      "        0x2c0 mload add dup1 0x2c0 mstore\n",
      "        0x2e0 mload add dup1 0x2e0 mstore\n",
      "        0x300 mload add dup1 0x300 mstore\n",
      "        0x320 mload add dup1 0x320 mstore\n",
      "        0x340 mload add dup1 0x340 mstore\n",
      "        0x360 mload add dup1 0x360 mstore\n",
      "        0x380 mload add dup1 0x380 mstore\n",
      "        0x3a0 mload add dup1 0x3a0 mstore\n",
      "        0x3c0 mload add dup1 0x3c0 mstore\n",
      "        0x3e0 mload add dup1 0x3e0 mstore\n",
      "        0x400 mload add dup1 0x400 mstore\n",
      "        0x420 mload add dup1 0x420 mstore\n",
      "        0x440 mload add dup1 0x440 mstore\n",
      "        0x460 mload add dup1 0x460 mstore\n",
      "        0x480 mload add dup1 0x480 mstore\n",
      "        0x4a0 mload add dup1 0x4a0 mstore\n",
      "        0x4c0 mload add dup1 0x4c0 mstore\n",
      "        0x4e0 mload add dup1 0x4e0 mstore\n",
      "        0x500 mload add dup1 0x500 mstore\n",
      "        0x520 mload add dup1 0x520 mstore\n",
      "        0x540 mload add dup1 0x540 mstore\n",
      "        0x560 mload add dup1 0x560 mstore\n",
      "        0x580 mload add dup1 0x580 mstore\n",
      "        0x5a0 mload add dup1 0x5a0 mstore\n",
      "        0x5c0 mload add dup1 0x5c0 mstore\n",
      "        0x5e0 mload add dup1 0x5e0 mstore\n",
      "        0x600 mload add dup1 0x600 mstore\n",
      "        0x620 mload add dup1 0x620 mstore\n",
      "        0x640 mload add dup1 0x640 mstore\n",
      "        0x660 mload add dup1 0x660 mstore\n",
      "        0x680 mload add dup1 0x680 mstore\n",
      "        0x6a0 mload add dup1 0x6a0 mstore\n",
      "        0x6c0 mload add dup1 0x6c0 mstore\n",
      "        0x6e0 mload add dup1 0x6e0 mstore\n",
      "        0x700 mload add dup1 0x700 mstore\n",
      "        0x720 mload add dup1 0x720 mstore\n",
      "        0x740 mload add dup1 0x740 mstore\n",
      "        0x760 mload add dup1 0x760 mstore\n",
      "        0x780 mload add dup1 0x780 mstore\n",
      "        0x7a0 mload add dup1 0x7a0 mstore\n",
      "        0x7c0 mload add dup1 0x7c0 mstore\n",
      "        0x7e0 mload add dup1 0x7e0 mstore\n",
      "        0x800 mload add dup1 0x800 mstore\n",
      "        0x820 mload add dup1 0x820 mstore\n",
      "        0x840 mload add dup1 0x840 mstore\n",
      "        0x860 mload add dup1 0x860 mstore\n",
      "        0x880 mload add dup1 0x880 mstore\n",
      "        0x8a0 mload add dup1 0x8a0 mstore\n",
      "        0x8c0 mload add dup1 0x8c0 mstore\n",
      "        0x8e0 mload add dup1 0x8e0 mstore\n",
      "        0x900 mload add dup1 0x900 mstore\n",
      "        0x920 mload add dup1 0x920 mstore\n",
      "        0x940 mload add dup1 0x940 mstore\n",
      "        0x960 mload add dup1 0x960 mstore\n",
      "        0x980 mload add dup1 0x980 mstore\n",
      "        0x9a0 mload add dup1 0x9a0 mstore\n",
      "        0x9c0 mload add dup1 0x9c0 mstore\n",
      "        0x9e0 mload add dup1 0x9e0 mstore\n",
      "        0xa00 mload add dup1 0xa00 mstore\n",
      "        0xa20 mload add dup1 0xa20 mstore\n",
      "        0xa40 mload add dup1 0xa40 mstore\n",
      "        0xa60 mload add dup1 0xa60 mstore\n",
      "        0xa80 mload add dup1 0xa80 mstore\n",
      "        0xaa0 mload add dup1 0xaa0 mstore\n",
      "        0xac0 mload add dup1 0xac0 mstore\n",
      "        0xae0 mload add dup1 0xae0 mstore\n",
      "        0xb00 mload add dup1 0xb00 mstore\n",
      "        0xb20 mload add dup1 0xb20 mstore\n",
      "        0xb40 mload add dup1 0xb40 mstore\n",
      "        0xb60 mload add dup1 0xb60 mstore\n",
      "        0xb80 mload add dup1 0xb80 mstore\n",
      "        0xba0 mload add dup1 0xba0 mstore\n",
      "        0xbc0 mload add dup1 0xbc0 mstore\n",
      "        0xbe0 mload add dup1 0xbe0 mstore\n",
      "        0xc00 mload add dup1 0xc00 mstore\n",
      "        0xc20 mload add dup1 0xc20 mstore\n",
      "        0xc40 mload add dup1 0xc40 mstore\n",
      "        0xc60 mload add dup1 0xc60 mstore\n",
      "        0xc80 mload add dup1 0xc80 mstore\n",
      "        0xca0 mload add dup1 0xca0 mstore\n",
      "        0xcc0 mload add dup1 0xcc0 mstore\n",
      "        0xce0 mload add dup1 0xce0 mstore\n",
      "        0xd00 mload add dup1 0xd00 mstore\n",
      "        0xd20 mload add dup1 0xd20 mstore\n",
      "        0xd40 mload add dup1 0xd40 mstore\n",
      "        0xd60 mload add dup1 0xd60 mstore\n",
      "        0xd80 mload add dup1 0xd80 mstore\n",
      "        0xda0 mload add dup1 0xda0 mstore\n",
      "        0xdc0 mload add dup1 0xdc0 mstore\n",
      "        0xde0 mload add dup1 0xde0 mstore\n",
      "        0xe00 mload add dup1 0xe00 mstore\n",
      "        0xe20 mload add dup1 0xe20 mstore\n",
      "        0xe40 mload add dup1 0xe40 mstore\n",
      "        0xe60 mload add dup1 0xe60 mstore\n",
      "        0xe80 mload add dup1 0xe80 mstore\n",
      "        0xea0 mload add dup1 0xea0 mstore\n",
      "        0xec0 mload add dup1 0xec0 mstore\n",
      "        0xee0 mload add dup1 0xee0 mstore\n"
     ]
    }
   ],
   "source": [
    "for i in range(0, 3840, 32):\n",
    "    print(\"        \" + hex(i) + \" mload add dup1 \" + hex(i) + \" mstore\")"
   ]
  },
  {
   "cell_type": "code",
   "execution_count": null,
   "metadata": {},
   "outputs": [],
   "source": []
  }
 ],
 "metadata": {
  "kernelspec": {
   "display_name": "Python 3",
   "language": "python",
   "name": "python3"
  },
  "language_info": {
   "codemirror_mode": {
    "name": "ipython",
    "version": 3
   },
   "file_extension": ".py",
   "mimetype": "text/x-python",
   "name": "python",
   "nbconvert_exporter": "python",
   "pygments_lexer": "ipython3",
   "version": "3.6.5"
  }
 },
 "nbformat": 4,
 "nbformat_minor": 2
}
