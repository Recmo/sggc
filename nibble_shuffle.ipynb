{
 "cells": [
  {
   "cell_type": "code",
   "execution_count": 7,
   "metadata": {},
   "outputs": [],
   "source": []
  },
  {
   "cell_type": "code",
   "execution_count": 104,
   "metadata": {},
   "outputs": [],
   "source": [
    "mask = [\n",
    "    0x0FF00FF00FF00FF00FF00FF00FF00FF00FF00FF00FF00FF00FF00FF00FF00FF0, \n",
    "    0x0FFFF0000FFFF0000FFFF0000FFFF0000FFFF0000FFFF0000FFFF0000FFFF000,\n",
    "    0x0FFFFFFFF00000000FFFFFFFF00000000FFFFFFFF00000000FFFFFFFF0000000,\n",
    "    0x0FFFFFFFFFFFFFFFF0000000000000000FFFFFFFFFFFFFFFF000000000000000\n",
    "]"
   ]
  },
  {
   "cell_type": "code",
   "execution_count": 128,
   "metadata": {},
   "outputs": [],
   "source": [
    "mul = [0x11, 0x101, 0x10001, 0x100000001, 0x100000000000000010]"
   ]
  },
  {
   "cell_type": "code",
   "execution_count": 129,
   "metadata": {},
   "outputs": [],
   "source": [
    "shift = [0x10, 0x100, 0x10000, 0x100000000]"
   ]
  },
  {
   "cell_type": "code",
   "execution_count": 130,
   "metadata": {},
   "outputs": [],
   "source": [
    "def step(a, n):\n",
    "    global mask, mul, shift\n",
    "    a *= mul[n]\n",
    "    a %= 2**256\n",
    "    print(hex(a))\n",
    "    #a *= shift[n]\n",
    "    #print(hex(a))\n",
    "    a &= mask[n]\n",
    "    print(hex(a))\n",
    "    print()\n",
    "    return a"
   ]
  },
  {
   "cell_type": "code",
   "execution_count": 133,
   "metadata": {},
   "outputs": [],
   "source": [
    "a = 0x000102030405060708090a0b0c0d0e0f0f0e0d0c0b0a09080706050403020100"
   ]
  },
  {
   "cell_type": "code",
   "execution_count": 134,
   "metadata": {},
   "outputs": [
    {
     "name": "stdout",
     "output_type": "stream",
     "text": [
      "0x112233445566778899aabbccddeeffffeeddccbbaa99887766554433221100\n",
      "0x1002300450067008900ab00cd00ef00fe00dc00ba009800760054003200100\n",
      "\n",
      "0x1012323454567678989ababcdcdefeffefedcdcbaba989876765454323210100\n",
      "0x12300004567000089ab0000cdef0000fedc0000ba980000765400003210000\n",
      "\n",
      "0x301234567456789ab89abcdefcdeffedcfedcba98ba987654765432103210000\n",
      "0x12345670000000089abcdef00000000fedcba9800000000765432100000000\n",
      "\n",
      "0x70123456789abcdef89abcdeffedcba98fedcba9876543210765432100000000\n",
      "0x123456789abcdef0000000000000000fedcba9876543210000000000000000\n",
      "\n",
      "0x123456789abcdeffedcba9876543210\n"
     ]
    }
   ],
   "source": [
    "b = step(step(step(step(a, 0), 1), 2), 3)\n",
    "b *= mul[4]\n",
    "b %= 2**256\n",
    "b //= 2**128\n",
    "print(hex(b))"
   ]
  },
  {
   "cell_type": "code",
   "execution_count": 12,
   "metadata": {},
   "outputs": [
    {
     "data": {
      "text/plain": [
       "'0x112233445566778899aabbccddeeff00112233445566778899aabbccddeeff'"
      ]
     },
     "execution_count": 12,
     "metadata": {},
     "output_type": "execute_result"
    }
   ],
   "source": [
    "hex(a * mul[0])"
   ]
  },
  {
   "cell_type": "code",
   "execution_count": 15,
   "metadata": {},
   "outputs": [
    {
     "data": {
      "text/plain": [
       "'0x112233445566778899aabbccddeeff00112233445566778899aabbccddeeff0'"
      ]
     },
     "execution_count": 15,
     "metadata": {},
     "output_type": "execute_result"
    }
   ],
   "source": [
    "hex((a * mul[0]) // shift[0])"
   ]
  },
  {
   "cell_type": "code",
   "execution_count": 14,
   "metadata": {},
   "outputs": [
    {
     "data": {
      "text/plain": [
       "'0x1002300450067008900ab00cd00ef0001002300450067008900ab00cd00ef'"
      ]
     },
     "execution_count": 14,
     "metadata": {},
     "output_type": "execute_result"
    }
   ],
   "source": [
    "hex(((a * mul[0]) // shift[0]) & mask[0])"
   ]
  },
  {
   "cell_type": "code",
   "execution_count": 16,
   "metadata": {},
   "outputs": [],
   "source": [
    "mask = [\n",
    "    0xFF00FF00FF00FF00FF00FF00FF00FF00FF00FF00FF00FF00FF00FF00FF00FF00, \n",
    "    0xFFFF0000FFFF0000FFFF0000FFFF0000FFFF0000FFFF0000FFFF0000FFFF0000,\n",
    "    0xFFFFFFFF00000000FFFFFFFF00000000FFFFFFFF00000000FFFFFFFF00000000,\n",
    "    0xFFFFFFFFFFFFFFFF0000000000000000FFFFFFFFFFFFFFFF0000000000000000\n",
    "]"
   ]
  },
  {
   "cell_type": "code",
   "execution_count": 97,
   "metadata": {},
   "outputs": [
    {
     "ename": "SyntaxError",
     "evalue": "invalid syntax (<ipython-input-97-836d561a9be7>, line 3)",
     "output_type": "error",
     "traceback": [
      "\u001b[0;36m  File \u001b[0;32m\"<ipython-input-97-836d561a9be7>\"\u001b[0;36m, line \u001b[0;32m3\u001b[0m\n\u001b[0;31m    89abcdef0000000\u001b[0m\n\u001b[0m                  ^\u001b[0m\n\u001b[0;31mSyntaxError\u001b[0m\u001b[0;31m:\u001b[0m invalid syntax\n"
     ]
    }
   ],
   "source": [
    "hex(((a * mul[0]) // shift[0]) & mask[0])\n",
    "\n"
   ]
  },
  {
   "cell_type": "code",
   "execution_count": null,
   "metadata": {},
   "outputs": [],
   "source": []
  }
 ],
 "metadata": {
  "kernelspec": {
   "display_name": "Python 3",
   "language": "python",
   "name": "python3"
  },
  "language_info": {
   "codemirror_mode": {
    "name": "ipython",
    "version": 3
   },
   "file_extension": ".py",
   "mimetype": "text/x-python",
   "name": "python",
   "nbconvert_exporter": "python",
   "pygments_lexer": "ipython3",
   "version": "3.6.5"
  }
 },
 "nbformat": 4,
 "nbformat_minor": 2
}
